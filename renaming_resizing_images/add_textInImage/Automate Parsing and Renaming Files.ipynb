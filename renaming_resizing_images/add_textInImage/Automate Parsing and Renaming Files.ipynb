{
 "cells": [
  {
   "cell_type": "code",
   "execution_count": 1,
   "metadata": {},
   "outputs": [
    {
     "name": "stdout",
     "output_type": "stream",
     "text": [
      "/home/pradyum/django-apps/freshInstall/add_textInImage\r\n"
     ]
    }
   ],
   "source": [
    "!pwd"
   ]
  },
  {
   "cell_type": "code",
   "execution_count": null,
   "metadata": {},
   "outputs": [],
   "source": [
    "## Refernce Links for the Videos\n",
    "## for automation videos https://www.youtube.com/watch?v=ve2pmm5JqmI\n",
    "## for resizing images https://www.youtube.com/watch?v=6Qs3wObeWwc"
   ]
  },
  {
   "cell_type": "code",
   "execution_count": 2,
   "metadata": {},
   "outputs": [
    {
     "name": "stdout",
     "output_type": "stream",
     "text": [
      "download-narendra-modi-png-images-transparent-gallery-advertisement-434.png\r\n",
      "download-narendra-modi-png-images-transparent-gallery-advertisement-648.png\r\n",
      "download-narendra-modi-png-images-transparent-gallery-advertisement-910.png\r\n",
      "fonts_Dir\r\n",
      "Image_working_Python.ipynb\r\n",
      "narendra-modi-png-free-download-1350.png\r\n",
      "narendra-modi-png-pic-500.png\r\n",
      "OS practise.ipynb\r\n",
      "testImage01.png\r\n",
      "Untitled.ipynb\r\n"
     ]
    }
   ],
   "source": [
    "!ls"
   ]
  },
  {
   "cell_type": "code",
   "execution_count": 10,
   "metadata": {},
   "outputs": [
    {
     "name": "stdout",
     "output_type": "stream",
     "text": [
      "/home/pradyum/django-apps/freshInstall/add_textInImage/testingImages\n",
      "6\n"
     ]
    }
   ],
   "source": [
    "import os\n",
    "\n",
    "# os.chdir('/home/pradyum/Downloads/send3_aviNash/send/Val/') ## for the file path\n",
    "os.chdir('/home/pradyum/django-apps/freshInstall/add_textInImage/testingImages')\n",
    "\n",
    "## check the current working directory\n",
    "print(os.getcwd())\n",
    "count = 0\n",
    "\n",
    "for f in os.listdir():\n",
    "    count += 1\n",
    "\n",
    "print(count)"
   ]
  },
  {
   "cell_type": "code",
   "execution_count": 11,
   "metadata": {},
   "outputs": [
    {
     "name": "stdout",
     "output_type": "stream",
     "text": [
      "/home/pradyum/django-apps/freshInstall/add_textInImage/testingImages\n",
      "Total files are 6\n"
     ]
    }
   ],
   "source": [
    "import os\n",
    "\n",
    "# os.chdir('/home/pradyum/Downloads/send3_aviNash/send/Val/') ## for the file path\n",
    "os.chdir('/home/pradyum/django-apps/freshInstall/add_textInImage/testingImages')\n",
    "\n",
    "## check the current working directory\n",
    "print(os.getcwd())\n",
    "count = 0\n",
    "\n",
    "## looping through all the files\n",
    "for f in os.listdir():\n",
    "#     print(f) ## printing all the filenames here in the directory\n",
    "    ## Split the extenstion\n",
    "    f_name, f_ext = os.path.splitext(f)\n",
    "#     print(f_name)\n",
    "     \n",
    "    count += 1 ## counter for naming files\n",
    "    f_name = f_name.strip() ##removing the white Space\n",
    "    \n",
    "#     print('{}{}'.format(count,f_ext)) ## check all the image file Names\n",
    "    new_name = '{}{}'.format(count,f_ext)\n",
    "    \n",
    "    os.rename(f, new_name) ## Final renaming of the files\n",
    "    \n",
    "print(\"Total files are {}\".format(count))\n",
    "\n",
    "## Check this section of code as files are getting reduced\n",
    "\n",
    "# new_count = 0\n",
    "# ## for renaming files having .JPG and .PNG to .jpg and .png\n",
    "# for f in os.listdir():\n",
    "#     f_name, f_ext = os.path.splitext(f)\n",
    "#     new_count += 1\n",
    "#     if f_ext == '.JPG' or '.jpeg':\n",
    "# #         print(f_ext)\n",
    "#         new_jpg = '{}{}'.format(f_name,'.jpg')\n",
    "#         os.rename(f,new_jpg)\n",
    "#     elif f_ext == '.PNG':\n",
    "#         new_png = '{}{}'.format(f_name,'.png')\n",
    "# #         print(new_name)\n",
    "#         os.rename(f,new_png)\n",
    "#     elif f_ext == '.bmp':\n",
    "# #         print(f_ext)\n",
    "#         print(\"BMP file is {}{}\".format(f_name,f_ext))\n",
    "#     else:\n",
    "        \n",
    "\n",
    "# print('new count for the files is {}'.format(new_count))"
   ]
  },
  {
   "cell_type": "code",
   "execution_count": 99,
   "metadata": {},
   "outputs": [
    {
     "name": "stdout",
     "output_type": "stream",
     "text": [
      "103.jpg  133.jpg  159.jpg  185.jpg  205.jpg  228.jpg  245.jpg  265.jpg\t77.jpg\r\n",
      "104.jpg  134.jpg  15.jpg   186.jpg  206.jpg  229.jpg  246.jpg  266.jpg\t78.jpg\r\n",
      "106.jpg  136.jpg  160.jpg  188.jpg  208.jpg  230.jpg  247.jpg  267.jpg\t83.jpg\r\n",
      "108.jpg  137.jpg  162.jpg  189.jpg  209.jpg  231.jpg  248.jpg  268.jpg\t84.jpg\r\n",
      "112.jpg  138.jpg  163.jpg  190.jpg  210.jpg  232.jpg  249.jpg  27.jpg\t85.jpg\r\n",
      "115.jpg  139.jpg  168.jpg  191.jpg  212.jpg  233.jpg  250.jpg  28.jpg\t88.jpg\r\n",
      "117.jpg  140.jpg  170.jpg  192.jpg  215.jpg  234.jpg  251.jpg  30.jpg\t91.jpg\r\n",
      "118.jpg  143.jpg  172.jpg  193.jpg  217.jpg  235.jpg  252.jpg  39.jpg\t93.jpg\r\n",
      "120.jpg  144.jpg  173.jpg  195.jpg  218.jpg  236.jpg  253.jpg  40.jpg\t94.jpg\r\n",
      "121.jpg  145.jpg  175.jpg  196.jpg  219.jpg  237.jpg  255.jpg  44.jpg\t95.jpg\r\n",
      "124.jpg  149.jpg  177.jpg  197.jpg  220.jpg  238.jpg  256.jpg  45.jpg\t96.jpg\r\n",
      "125.jpg  150.jpg  178.jpg  198.jpg  221.jpg  239.jpg  257.jpg  52.jpg\t97.jpg\r\n",
      "127.jpg  151.jpg  179.jpg  199.jpg  222.jpg  240.jpg  258.jpg  54.jpg\t98.jpg\r\n",
      "128.jpg  153.jpg  17.jpg   201.jpg  223.jpg  241.jpg  259.jpg  59.jpg\t99.jpg\r\n",
      "129.jpg  156.jpg  180.jpg  202.jpg  224.jpg  242.jpg  260.jpg  60.jpg\r\n",
      "130.jpg  157.jpg  182.jpg  203.jpg  225.jpg  243.jpg  263.jpg  61.jpg\r\n",
      "132.jpg  158.jpg  183.jpg  204.jpg  227.jpg  244.jpg  264.jpg  71.jpg\r\n"
     ]
    }
   ],
   "source": [
    "!ls"
   ]
  },
  {
   "cell_type": "code",
   "execution_count": 82,
   "metadata": {},
   "outputs": [
    {
     "name": "stdout",
     "output_type": "stream",
     "text": [
      "/home/pradyum/Downloads/send3_aviNash/send\n"
     ]
    }
   ],
   "source": [
    "%cd .."
   ]
  },
  {
   "cell_type": "code",
   "execution_count": 76,
   "metadata": {},
   "outputs": [
    {
     "name": "stdout",
     "output_type": "stream",
     "text": [
      "00000041.jpg\t       frame138.jpg\t     testing2\t\tTrain\r\n",
      "Detail val images.txt  NewFinalConverter.py  testing4\t\tVal\r\n",
      "finalConverter.py      os_practise.py\t     testingImageFiles\r\n"
     ]
    }
   ],
   "source": [
    "!ls"
   ]
  },
  {
   "cell_type": "code",
   "execution_count": 35,
   "metadata": {},
   "outputs": [],
   "source": [
    "!mkdir testingImageFiles"
   ]
  },
  {
   "cell_type": "code",
   "execution_count": 36,
   "metadata": {},
   "outputs": [
    {
     "name": "stdout",
     "output_type": "stream",
     "text": [
      "/home/pradyum/Downloads/send3_aviNash/send/testingImageFiles\n"
     ]
    }
   ],
   "source": [
    "%cd testingImageFiles/"
   ]
  },
  {
   "cell_type": "code",
   "execution_count": 41,
   "metadata": {},
   "outputs": [],
   "source": [
    "!touch image1.JPG\n",
    "!touch image2.JPG\n",
    "!touch image3.JPG\n",
    "!touch image4.PNG\n",
    "!touch image5.PNG"
   ]
  },
  {
   "cell_type": "code",
   "execution_count": 42,
   "metadata": {},
   "outputs": [
    {
     "name": "stdout",
     "output_type": "stream",
     "text": [
      "image1.JPG  image2.JPG\timage3.JPG  image4.PNG\timage5.PNG  image.JPG\r\n"
     ]
    }
   ],
   "source": [
    "!ls"
   ]
  },
  {
   "cell_type": "code",
   "execution_count": 50,
   "metadata": {},
   "outputs": [
    {
     "name": "stdout",
     "output_type": "stream",
     "text": [
      "image5.png\n",
      "image4.png\n",
      "image2.jpg\n",
      "image.jpg\n",
      "image3.jpg\n",
      "image1.jpg\n"
     ]
    }
   ],
   "source": [
    "## for renaming files having .JPG and .PNG to .jpg and .png\n",
    "\n",
    "for f in os.listdir():\n",
    "    f_name, f_ext = os.path.splitext(f)\n",
    "    if f_ext == '.JPG' or '.jpeg':\n",
    "#         print(f_ext)\n",
    "        new_jpg = '{}{}'.format(f_name,'.jpg')\n",
    "        os.rename(f,new_jpg)\n",
    "    if f_ext == '.PNG':\n",
    "        new_png = '{}{}'.format(f_name,'.png')\n",
    "#         print(new_name)\n",
    "        os.rename(f,new_png)\n",
    "    if f_ext == '.bmp':\n",
    "#         print(f_ext)\n",
    "        print(\"BMP file is {}{}\".format(f_name,f_ext))"
   ]
  },
  {
   "cell_type": "code",
   "execution_count": 1,
   "metadata": {},
   "outputs": [
    {
     "name": "stdout",
     "output_type": "stream",
     "text": [
      "/home/pradyum/django-apps/freshInstall/add_textInImage\r\n"
     ]
    }
   ],
   "source": [
    "!pwd"
   ]
  },
  {
   "cell_type": "code",
   "execution_count": 2,
   "metadata": {},
   "outputs": [
    {
     "name": "stdout",
     "output_type": "stream",
     "text": [
      "/home/pradyum/Downloads/send3_aviNash/send/Val\n"
     ]
    }
   ],
   "source": [
    "%cd /home/pradyum/Downloads/send3_aviNash/send/Val/"
   ]
  },
  {
   "cell_type": "code",
   "execution_count": 3,
   "metadata": {},
   "outputs": [
    {
     "name": "stdout",
     "output_type": "stream",
     "text": [
      "10.jpg\t14.jpeg  18.jpg  21.jpg  25.jpg  29.jpg  32.jpg  36.jpg  3.jpg\t 5.jpg\r\n",
      "11.jpg\t15.jpg\t 19.jpg  22.jpg  26.jpg  2.jpg\t 33.jpg  37.jpg  40.jpg  7.jpg\r\n",
      "12.jpg\t16.jpg\t 1.jpg\t 23.jpg  27.jpg  30.jpg  34.jpg  38.jpg  41.jpg  8.jpg\r\n",
      "13.jpg\t17.jpg\t 20.jpg  24.jpg  28.jpg  31.jpg  35.jpg  39.jpg  4.jpg\t 9.jpg\r\n"
     ]
    }
   ],
   "source": [
    "!ls"
   ]
  },
  {
   "cell_type": "code",
   "execution_count": 4,
   "metadata": {},
   "outputs": [
    {
     "name": "stdout",
     "output_type": "stream",
     "text": [
      "/home/pradyum/Downloads/send3_aviNash/send\n"
     ]
    }
   ],
   "source": [
    "%cd .."
   ]
  },
  {
   "cell_type": "code",
   "execution_count": 5,
   "metadata": {},
   "outputs": [
    {
     "name": "stdout",
     "output_type": "stream",
     "text": [
      "Detail val images.txt  finalConverter.py  NewFinalConverter.py\tTrain  Val\r\n"
     ]
    }
   ],
   "source": [
    "!ls"
   ]
  },
  {
   "cell_type": "code",
   "execution_count": 6,
   "metadata": {},
   "outputs": [
    {
     "name": "stdout",
     "output_type": "stream",
     "text": [
      "/home/pradyum/Downloads/send3_aviNash/send/Train\n"
     ]
    }
   ],
   "source": [
    "%cd Train/"
   ]
  },
  {
   "cell_type": "code",
   "execution_count": 7,
   "metadata": {},
   "outputs": [
    {
     "name": "stdout",
     "output_type": "stream",
     "text": [
      "100.jpg  132.jpg  166.jpg  196.jpg  229.jpg   258.png  45.jpg\t75.jpg\r\n",
      "101.jpg  133.jpg  167.jpg  197.jpg  22.jpg    259.jpg  46.jpg\t76.jpg\r\n",
      "102.jpg  134.jpg  168.png  198.jpg  230.png   25.jpg   47.jpg\t77.jpg\r\n",
      "103.jpg  135.jpg  169.jpg  199.png  231.jpg   260.jpg  48.jpg\t79.jpg\r\n",
      "104.jpg  136.jpg  16.jpg   1.jpg    232.png   261.jpg  49.jpg\t7.jpg\r\n",
      "105.jpg  139.jpg  170.jpg  200.jpg  233.jpg   262.jpg  4.jpg\t80.jpg\r\n",
      "106.jpg  140.jpg  171.jpg  202.jpg  234.jpg   263.jpg  50.jpg\t81.jpg\r\n",
      "107.jpg  141.jpg  172.jpg  203.jpg  235.jpg   264.png  51.jpg\t82.jpg\r\n",
      "108.jpg  142.jpg  173.png  204.jpg  236.jpg   265.jpg  52.jpg\t83.jpg\r\n",
      "109.jpg  143.png  174.jpg  206.jpg  237.jpeg  266.jpg  53.jpg\t85.png\r\n",
      "10.jpg\t 144.jpg  175.jpg  207.jpg  238.jpg   268.jpg  54.jpg\t86.jpg\r\n",
      "110.jpg  145.jpg  176.jpg  208.jpg  239.jpg   26.jpg   55.jpg\t87.jpg\r\n",
      "111.jpg  146.jpg  177.jpg  209.jpg  23.jpg    27.png   56.jpg\t88.jpg\r\n",
      "112.jpg  147.jpg  178.jpg  20.jpg   240.jpg   28.jpg   57.jpg\t89.jpg\r\n",
      "113.jpg  148.png  179.jpg  210.jpg  241.jpg   29.jpg   58.jpg\t8.jpg\r\n",
      "114.jpg  14.jpg   17.jpg   211.jpg  242.jpg   2.jpg    59.jpg\t90.jpg\r\n",
      "115.jpg  150.jpg  180.jpg  212.jpg  243.png   30.jpg   5.jpg\t91.jpg\r\n",
      "116.jpg  151.jpg  181.jpg  213.jpg  244.jpg   31.jpg   60.jpg\t92.jpg\r\n",
      "117.jpg  152.jpg  182.jpg  214.jpg  245.jpg   32.jpg   61.jpeg\t93.jpg\r\n",
      "118.jpg  153.jpg  183.jpg  215.jpg  246.jpg   33.jpg   62.jpg\t94.jpeg\r\n",
      "119.jpg  154.jpg  184.jpg  216.jpg  247.jpg   34.jpg   63.jpg\t96.jpg\r\n",
      "11.jpg\t 155.jpg  186.jpg  217.jpg  248.jpg   35.jpg   64.jpg\t97.jpg\r\n",
      "120.jpg  156.png  187.jpg  218.jpg  249.jpg   36.png   65.jpg\t98.jpg\r\n",
      "121.jpg  157.jpg  188.jpg  219.jpg  24.jpg    37.jpg   66.jpg\t99.png\r\n",
      "122.png  158.jpg  189.jpg  21.jpg   250.jpg   38.jpg   67.jpg\t9.jpg\r\n",
      "124.jpg  159.jpg  18.jpg   221.jpg  251.jpg   39.jpg   68.jpg\r\n",
      "125.jpg  15.png   190.jpg  222.jpg  252.jpg   3.png    69.jpg\r\n",
      "127.jpg  160.jpg  191.jpg  223.jpg  253.jpeg  40.jpg   70.jpg\r\n",
      "128.jpg  162.bmp  192.jpg  225.jpg  254.jpg   41.jpg   71.jpg\r\n",
      "129.jpg  163.jpg  193.png  226.jpg  255.png   42.jpg   72.jpg\r\n",
      "12.jpg\t 164.jpg  194.jpg  227.jpg  256.jpg   43.jpg   73.jpg\r\n",
      "130.jpg  165.jpg  195.jpg  228.jpg  257.jpg   44.jpg   74.jpg\r\n"
     ]
    }
   ],
   "source": [
    "!ls"
   ]
  },
  {
   "cell_type": "code",
   "execution_count": 14,
   "metadata": {},
   "outputs": [
    {
     "name": "stdout",
     "output_type": "stream",
     "text": [
      "102.jpg  109.jpg  1.png     253.jpeg  3.png  5.png    6.png\r\n",
      "105.jpg  162.bmp  237.jpeg  2.png     4.png  61.jpeg\r\n"
     ]
    }
   ],
   "source": [
    "!ls"
   ]
  },
  {
   "cell_type": "code",
   "execution_count": 21,
   "metadata": {},
   "outputs": [
    {
     "name": "stdout",
     "output_type": "stream",
     "text": [
      "folder for image files /home/pradyum/django-apps/freshInstall/add_textInImage/testingImages\n"
     ]
    }
   ],
   "source": [
    "# check the file initilised\n",
    "import os\n",
    "\n",
    "print(\"folder for image files {}\".format(os.getcwd()))\n",
    "cntJPG = 0\n",
    "cntPNG = 0\n",
    "cntBMP = 0"
   ]
  },
  {
   "cell_type": "code",
   "execution_count": 23,
   "metadata": {},
   "outputs": [
    {
     "name": "stdout",
     "output_type": "stream",
     "text": [
      "6.png\n",
      "6.png\n",
      "105.jpg\n",
      "61.jpeg\n",
      "162.bmp\n",
      "162.bmp\n",
      "253.jpeg\n",
      "237.jpeg\n",
      "1.png\n",
      "1.png\n",
      "109.jpg\n",
      "5.png\n",
      "5.png\n",
      "102.jpg\n",
      "4.png\n",
      "4.png\n",
      "2.png\n",
      "2.png\n",
      "3.png\n",
      "3.png\n",
      "count for the PNG Image 12\n",
      "count for the JPG Image 26\n",
      "count for the BMP Image 2\n"
     ]
    }
   ],
   "source": [
    "# for files in named directory\n",
    "for f in os.listdir(os.getcwd()):\n",
    "    f_name, f_ext = os.path.splitext(f)\n",
    "    \n",
    "    if f_ext == '.jpg' or '.jpeg':  # for the jpg directory\n",
    "#         i = Image.open(f)\n",
    "        fn, fext = os.path.splitext(f)  # split text for images file\n",
    "        print(f)\n",
    "        cntJPG += 1\n",
    "\n",
    "    if f_ext == '.png':  # for the png directory\n",
    "        print(f)\n",
    "        cntPNG += 1\n",
    "    \n",
    "    if f_ext == '.bmp':\n",
    "        print(f)\n",
    "        cntBMP += 1\n",
    "        \n",
    "\n",
    "print(\"count for the PNG Image {}\".format(cntPNG))\n",
    "print(\"count for the JPG Image {}\".format(cntJPG))\n",
    "\n",
    "print(\"count for the BMP Image {}\".format(cntBMP))"
   ]
  },
  {
   "cell_type": "code",
   "execution_count": 79,
   "metadata": {},
   "outputs": [
    {
     "name": "stdout",
     "output_type": "stream",
     "text": [
      "Total images are 40\n"
     ]
    }
   ],
   "source": [
    "from PIL import Image\n",
    "import os\n",
    "\n",
    "os.chdir('/home/pradyum/Downloads/send3_aviNash/send/Val')\n",
    "# os.chdir('/home/pradyum/Downloads/send3_aviNash/send/Train')\n",
    "\n",
    "count = 0\n",
    "\n",
    "## plotting sizes\n",
    "size_800 = (800,800)\n",
    "\n",
    "fn_jpg = '.jpg'\n",
    "\n",
    "# for files in named directory\n",
    "for f in os.listdir(os.getcwd()):\n",
    "    f_name, f_ext = os.path.splitext(f)\n",
    "    if f_ext == '.png' or '.jpg' or '.jpeg':\n",
    "        count += 1\n",
    "#         print(\"{}{}\".format(f_name,f_ext))\n",
    "        \n",
    "        ## In jpg format\n",
    "        i = Image.open(f).convert('RGB')\n",
    "        i.save('/home/pradyum/django-apps/convertedImages/Val/{}.jpg'.format(f_name))\n",
    "\n",
    "        ## for the png format\n",
    "#         i.save('{}.png'.format(f_name))\n",
    "                \n",
    "print(\"Total images are {}\".format(count))"
   ]
  },
  {
   "cell_type": "code",
   "execution_count": 81,
   "metadata": {},
   "outputs": [
    {
     "name": "stdout",
     "output_type": "stream",
     "text": [
      "/home/pradyum/django-apps/convertedImages/Val\n"
     ]
    }
   ],
   "source": [
    "## rising all the images\n",
    "# os.chdir('/home/pradyum/django-apps/convertedImages/Train/')\n",
    "os.chdir('/home/pradyum/django-apps/convertedImages/Val/')\n",
    "\n",
    "\n",
    "## check the current working directory\n",
    "print(os.getcwd())\n",
    "count = 0\n",
    "\n",
    "for f in os.listdir():\n",
    "    ## converting them in thumbnail\n",
    "    if f.endswith('.jpg'):\n",
    "        i = Image.open(f)\n",
    "        fn,fext = os.path.splitext(f)\n",
    "        \n",
    "        i.thumbnail(size_800)\n",
    "        i.save('{}{}'.format(fn,fext))\n",
    "    #     print(f)"
   ]
  },
  {
   "cell_type": "code",
   "execution_count": null,
   "metadata": {},
   "outputs": [],
   "source": [
    "# !pip install easy_thumbnails"
   ]
  },
  {
   "cell_type": "code",
   "execution_count": 57,
   "metadata": {},
   "outputs": [
    {
     "name": "stdout",
     "output_type": "stream",
     "text": [
      "rmdir: failed to remove ‘800’: Directory not empty\r\n"
     ]
    }
   ],
   "source": [
    "!rmdir 800"
   ]
  },
  {
   "cell_type": "code",
   "execution_count": 44,
   "metadata": {},
   "outputs": [
    {
     "name": "stdout",
     "output_type": "stream",
     "text": [
      "102.jpg  105.png  162.bmp  237.jpeg  253.png  4.png    61.png\r\n",
      "102.png  109.jpg  162.png  237.png   2.png    5.png    6.png\r\n",
      "105.jpg  109.png  1.png    253.jpeg  3.png    61.jpeg  800\r\n"
     ]
    }
   ],
   "source": [
    "!ls"
   ]
  },
  {
   "cell_type": "code",
   "execution_count": 43,
   "metadata": {},
   "outputs": [],
   "source": [
    "!rm -rf 700/"
   ]
  },
  {
   "cell_type": "code",
   "execution_count": 60,
   "metadata": {},
   "outputs": [
    {
     "name": "stdout",
     "output_type": "stream",
     "text": [
      "102.jpg  109.jpg  162.png   237.jpg   253.png  3.png  5.png    6.jpg\r\n",
      "102.png  109.png  1.jpg     237.png   2.jpg    4.jpg  61.jpeg  6.png\r\n",
      "105.jpg  162.bmp  1.png     253.jpeg  2.png    4.png  61.jpg\r\n",
      "105.png  162.jpg  237.jpeg  253.jpg   3.jpg    5.jpg  61.png\r\n"
     ]
    }
   ],
   "source": [
    "!ls"
   ]
  },
  {
   "cell_type": "code",
   "execution_count": 82,
   "metadata": {},
   "outputs": [],
   "source": [
    "# from easy_thumbnails.files import get_thumbnailer"
   ]
  },
  {
   "cell_type": "code",
   "execution_count": 68,
   "metadata": {},
   "outputs": [
    {
     "name": "stdout",
     "output_type": "stream",
     "text": [
      "\u001b[33mThe directory '/home/pradyum/.cache/pip/http' or its parent directory is not owned by the current user and the cache has been disabled. Please check the permissions and owner of that directory. If executing pip with sudo, you may want sudo's -H flag.\u001b[0m\n",
      "\u001b[33mThe directory '/home/pradyum/.cache/pip' or its parent directory is not owned by the current user and caching wheels has been disabled. check the permissions and owner of that directory. If executing pip with sudo, you may want sudo's -H flag.\u001b[0m\n",
      "Requirement already satisfied: easy_thumbnails in /home/pradyum/django-apps/freshInstall/fresh/lib/python3.6/site-packages (2.5)\n",
      "Requirement already satisfied: django>=1.8 in /home/pradyum/django-apps/freshInstall/fresh/lib/python3.6/site-packages (from easy_thumbnails) (2.1.4)\n",
      "Requirement already satisfied: pillow in /home/pradyum/django-apps/freshInstall/fresh/lib/python3.6/site-packages (from easy_thumbnails) (5.3.0)\n",
      "Requirement already satisfied: pytz in /home/pradyum/django-apps/freshInstall/fresh/lib/python3.6/site-packages (from django>=1.8->easy_thumbnails) (2018.5)\n"
     ]
    }
   ],
   "source": [
    "!pip install easy_thumbnails"
   ]
  },
  {
   "cell_type": "code",
   "execution_count": null,
   "metadata": {},
   "outputs": [],
   "source": []
  },
  {
   "cell_type": "code",
   "execution_count": null,
   "metadata": {},
   "outputs": [],
   "source": []
  }
 ],
 "metadata": {
  "kernelspec": {
   "display_name": "Python 3",
   "language": "python",
   "name": "python3"
  },
  "language_info": {
   "codemirror_mode": {
    "name": "ipython",
    "version": 3
   },
   "file_extension": ".py",
   "mimetype": "text/x-python",
   "name": "python",
   "nbconvert_exporter": "python",
   "pygments_lexer": "ipython3",
   "version": "3.6.3"
  }
 },
 "nbformat": 4,
 "nbformat_minor": 2
}
