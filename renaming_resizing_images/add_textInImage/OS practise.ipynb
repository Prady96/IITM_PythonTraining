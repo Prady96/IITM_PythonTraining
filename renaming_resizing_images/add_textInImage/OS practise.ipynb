{
 "cells": [
  {
   "cell_type": "code",
   "execution_count": 1,
   "metadata": {},
   "outputs": [
    {
     "name": "stdout",
     "output_type": "stream",
     "text": [
      "/home/pradyum/django-apps/freshInstall/add_textInImage\n"
     ]
    }
   ],
   "source": [
    "### os functionality\n",
    "import os\n",
    "\n",
    "##!pwd\n",
    "print(os.getcwd())  # get current working directory"
   ]
  },
  {
   "cell_type": "code",
   "execution_count": 6,
   "metadata": {},
   "outputs": [],
   "source": [
    "## !cd \n",
    "os.chdir('/home/pradyum/Downloads/send3_aviNash/send') ## for the change in directory\n",
    "\n",
    "## In this ~ wont work you have to go with the home dircetory"
   ]
  },
  {
   "cell_type": "code",
   "execution_count": 11,
   "metadata": {},
   "outputs": [
    {
     "name": "stdout",
     "output_type": "stream",
     "text": [
      "['00000041.jpg', 'frame138.jpg', 'os_practise.py', 'finalConverter.py', 'Detail val images.txt', 'NewFinalConverter.py', 'testing1', 'Val', 'Train', 'testing2']\n"
     ]
    }
   ],
   "source": [
    "##listdir\n",
    "### print all the files in the directory of the list\n",
    "print(os.listdir()) ## load directory in format of list"
   ]
  },
  {
   "cell_type": "code",
   "execution_count": 21,
   "metadata": {},
   "outputs": [],
   "source": [
    "##Create directory\n",
    "##!mkdir\n",
    "os.mkdir('testing1')\n",
    "\n",
    "##!mkdir -p\n",
    "os.makedirs('testing2/testing3') ##it will create dirs along with the parent directory"
   ]
  },
  {
   "cell_type": "code",
   "execution_count": 10,
   "metadata": {},
   "outputs": [
    {
     "name": "stdout",
     "output_type": "stream",
     "text": [
      "00000041.jpg\t       finalConverter.py  NewFinalConverter.py\ttesting1  Train\r\n",
      "Detail val images.txt  frame138.jpg\t  os_practise.py\ttesting2  Val\r\n"
     ]
    }
   ],
   "source": [
    "!ls ## directory list"
   ]
  },
  {
   "cell_type": "code",
   "execution_count": 18,
   "metadata": {},
   "outputs": [],
   "source": [
    "## remove directory\n",
    "# os.rmdir('testing1') ## remove single dirs\n",
    "os.removedirs('testing2/testing3') ## remove multiple dirs from the parent dirs"
   ]
  },
  {
   "cell_type": "code",
   "execution_count": 19,
   "metadata": {},
   "outputs": [
    {
     "name": "stdout",
     "output_type": "stream",
     "text": [
      "00000041.jpg\t       finalConverter.py  NewFinalConverter.py\tTrain\r\n",
      "Detail val images.txt  frame138.jpg\t  os_practise.py\tVal\r\n"
     ]
    }
   ],
   "source": [
    "!ls"
   ]
  },
  {
   "cell_type": "code",
   "execution_count": 22,
   "metadata": {},
   "outputs": [],
   "source": [
    "## os.rename('original_fileName.txt','new_FileName.txt')\n",
    "os.rename('testing1','testing4')"
   ]
  },
  {
   "cell_type": "code",
   "execution_count": 23,
   "metadata": {},
   "outputs": [
    {
     "name": "stdout",
     "output_type": "stream",
     "text": [
      "00000041.jpg\t       finalConverter.py  NewFinalConverter.py\ttesting2  Train\r\n",
      "Detail val images.txt  frame138.jpg\t  os_practise.py\ttesting4  Val\r\n"
     ]
    }
   ],
   "source": [
    "!ls"
   ]
  },
  {
   "cell_type": "code",
   "execution_count": 26,
   "metadata": {},
   "outputs": [
    {
     "name": "stdout",
     "output_type": "stream",
     "text": [
      "4096\n"
     ]
    }
   ],
   "source": [
    "## file information with respect to time_stamp\n",
    "print(os.stat('testing4').st_size)"
   ]
  },
  {
   "cell_type": "code",
   "execution_count": 27,
   "metadata": {},
   "outputs": [
    {
     "name": "stdout",
     "output_type": "stream",
     "text": [
      "1545632319.381161\n"
     ]
    }
   ],
   "source": [
    "## Now size of the file is 4096\n",
    "\n",
    "## Modification time of the file\n",
    "print(os.stat('testing4').st_mtime) ## time_stamp for the file modification information"
   ]
  },
  {
   "cell_type": "code",
   "execution_count": 31,
   "metadata": {},
   "outputs": [
    {
     "name": "stdout",
     "output_type": "stream",
     "text": [
      "2018-12-24 11:48:39.381161\n"
     ]
    }
   ],
   "source": [
    "## Now for the human readable format of the modified time when lot of files are generated for mentatinece of logs\n",
    "from datetime import datetime\n",
    "\n",
    "mod_time = os.stat('testing4').st_mtime\n",
    "print(datetime.fromtimestamp(mod_time))"
   ]
  },
  {
   "cell_type": "code",
   "execution_count": 33,
   "metadata": {},
   "outputs": [
    {
     "name": "stdout",
     "output_type": "stream",
     "text": [
      "Current Path is /home/pradyum/Desktop/\n",
      "Directory is ['test', 'Final Upload', 'Untitled Folder', 'Table Dataset', 'semester', 'desktop']\n",
      "Filenames is ['pandas-cheat-sheet.pdf', '26.jpg', 'breast-cancer-wisconsin.data.txt', 'test_gui.py', 'Untitled_Folder.zip', 'amul.json']\n",
      "\n",
      "Current Path is /home/pradyum/Desktop/test\n",
      "Directory is ['Tables']\n",
      "Filenames is ['foo_stream.xls', 'StreamPDFTesting.py', 'foo_stream.json', 'foo_json_allTables_stream_-page-1-table-1.json', 'foo_stream.csv']\n",
      "\n",
      "Current Path is /home/pradyum/Desktop/test/Tables\n",
      "Directory is []\n",
      "Filenames is ['28.jpg', '013.pdf', '30.jpg', '020.pdf', 'Thumbs.db', '008.pdf', '009.pdf', '29.jpg', '011.pdf', '023.pdf', '022.pdf', '26.jpg', '024.pdf', '018.pdf', '002.pdf', '014.pdf', '006.pdf', '017.pdf', '27.jpg', '019.pdf', '016.pdf', '015.pdf', '31.jpg', '005.pdf', '001.pdf', '012.pdf', '007.pdf', '003.pdf', '004.pdf', '010.pdf', '021.pdf']\n",
      "\n",
      "Current Path is /home/pradyum/Desktop/Final Upload\n",
      "Directory is ['18', '4', '24', '25', '1', '7', '21', '22', '2']\n",
      "Filenames is []\n",
      "\n",
      "Current Path is /home/pradyum/Desktop/Final Upload/18\n",
      "Directory is []\n",
      "Filenames is ['foo_stream_1_.xls', 'foo_2_.xls']\n",
      "\n",
      "Current Path is /home/pradyum/Desktop/Final Upload/4\n",
      "Directory is []\n",
      "Filenames is ['foo_1_.xls']\n",
      "\n",
      "Current Path is /home/pradyum/Desktop/Final Upload/24\n",
      "Directory is []\n",
      "Filenames is ['foo_stream_1_.xls', 'foo_stream_2_.xls']\n",
      "\n",
      "Current Path is /home/pradyum/Desktop/Final Upload/25\n",
      "Directory is []\n",
      "Filenames is ['foo_1_.xls']\n",
      "\n",
      "Current Path is /home/pradyum/Desktop/Final Upload/1\n",
      "Directory is []\n",
      "Filenames is ['foo_1_.xls']\n",
      "\n",
      "Current Path is /home/pradyum/Desktop/Final Upload/7\n",
      "Directory is []\n",
      "Filenames is ['foo_stream_1_.xls', 'foo_stream_2_.xls']\n",
      "\n",
      "Current Path is /home/pradyum/Desktop/Final Upload/21\n",
      "Directory is []\n",
      "Filenames is ['foo_1_.xls']\n",
      "\n",
      "Current Path is /home/pradyum/Desktop/Final Upload/22\n",
      "Directory is []\n",
      "Filenames is ['foo_stream_1_.xls', 'foo_stream_2_.xls']\n",
      "\n",
      "Current Path is /home/pradyum/Desktop/Final Upload/2\n",
      "Directory is []\n",
      "Filenames is ['foo_stream_1_.xls', 'foo_stream_2_.xls', 'foo_stream_3_.xls', 'foo_1_.xls']\n",
      "\n",
      "Current Path is /home/pradyum/Desktop/Untitled Folder\n",
      "Directory is []\n",
      "Filenames is ['Screenshot from 2018-12-16 01:56:09.png', 'Screenshot from 2018-12-16 01:57:09 - 1.png', 'Screenshot from 2018-12-16 01:10:16.png', 'Screenshot from 2018-12-16 01:57:09 - 2.png', 'Screenshot from 2018-12-16 01:55:58.png', 'Screenshot from 2018-12-16 01:57:09.png', 'Screenshot from 2018-12-16 01:39:54.png', 'Screenshot from 2018-12-16 01:56:12.png', 'Screenshot from 2018-12-16 01:58:32.png', 'Screenshot from 2018-12-16 01:58:45.png']\n",
      "\n",
      "Current Path is /home/pradyum/Desktop/Table Dataset\n",
      "Directory is ['Labels in Excel Format', 'Tables']\n",
      "Filenames is []\n",
      "\n",
      "Current Path is /home/pradyum/Desktop/Table Dataset/Labels in Excel Format\n",
      "Directory is []\n",
      "Filenames is ['003.xls', '12.xls', '23.xls', '002.xls', '17.xls', '10.xls', '20.xls', '006.xls', '11.xls', '005.xls', '009.xls', '24.xls', '22.xls', '001.xls', '21.xls', '13.xls', '18.xls', '004.xls', '14.xls', '16.xls', '19.xls', '008.xls', '007.xls', '15.xls']\n",
      "\n",
      "Current Path is /home/pradyum/Desktop/Table Dataset/Tables\n",
      "Directory is []\n",
      "Filenames is ['28.jpg', '013.pdf', '30.jpg', '020.pdf', 'Thumbs.db', '008.pdf', '009.pdf', '29.jpg', '011.pdf', '023.pdf', '022.pdf', '26.jpg', '024.pdf', '018.pdf', '002.pdf', '014.pdf', '006.pdf', '017.pdf', '27.jpg', '019.pdf', '016.pdf', '015.pdf', '31.jpg', '005.pdf', '001.pdf', '012.pdf', '007.pdf', '003.pdf', '004.pdf', '010.pdf', '021.pdf']\n",
      "\n",
      "Current Path is /home/pradyum/Desktop/semester\n",
      "Directory is ['AdvanceDatabaseAdmin', 'cryptography']\n",
      "Filenames is ['Unit-1 Cloud Computing2017-09-22 19_52_27.pdf', 'ACN Unit 32017-10-27 14_50_03.pdf', 'acn3582a745c9dcff8.47707553.pdf', 'Mastering Cloud Computing2017-09-22 19_21_05.pdf', 'acn1582a6ba7932ce8.36396764.pdf', 'ACN UNIT 42017-10-29 19_47_16.pdf', 'acn2582a704a1adaa9.45705222.pdf', 'Unit 2 Cloud Computing2017-09-22 19_33_38.pdf']\n",
      "\n",
      "Current Path is /home/pradyum/Desktop/semester/AdvanceDatabaseAdmin\n",
      "Directory is []\n",
      "Filenames is ['ADBA-Unit 12017-09-21 07_39_20.pdf', 'ADBA 3,42017-12-11 18_57_31.pdf', 'ADBA 1,22017-12-11 18_57_03.pdf', 'acn1582a6ba7932ce8.36396764.pdf']\n",
      "\n",
      "Current Path is /home/pradyum/Desktop/semester/cryptography\n",
      "Directory is []\n",
      "Filenames is ['crypt unit-42018-05-31 09_48_22.pdf', 'crypt unit32018-05-31 09_46_28.pdf', 'Crypto unit 3 Notes2017-12-12 03_22_10.pdf']\n",
      "\n",
      "Current Path is /home/pradyum/Desktop/desktop\n",
      "Directory is []\n",
      "Filenames is ['netbeans-8.2.desktop', 'oraclexe-gettingstarted.desktop']\n",
      "\n"
     ]
    }
   ],
   "source": [
    "## traversing the dirs tree\n",
    "\n",
    "os.chdir('/home/pradyum/Desktop/')\n",
    "\n",
    "for dirpath,dirnames,filenames in os.walk('/home/pradyum/Desktop/'):\n",
    "    print('Current Path is',dirpath)\n",
    "    print('Directory is',dirnames)\n",
    "    print('Filenames is',filenames)\n",
    "    print()\n",
    "\n",
    "## going throgh each dircetory and traversing the whole dirs tree"
   ]
  },
  {
   "cell_type": "markdown",
   "metadata": {},
   "source": [
    "## os.environ"
   ]
  },
  {
   "cell_type": "code",
   "execution_count": 34,
   "metadata": {},
   "outputs": [
    {
     "name": "stdout",
     "output_type": "stream",
     "text": [
      "/home/pradyum\n"
     ]
    }
   ],
   "source": [
    "## getting the home dirs for the users\n",
    "print(os.environ.get('HOME'))"
   ]
  },
  {
   "cell_type": "code",
   "execution_count": 36,
   "metadata": {},
   "outputs": [],
   "source": [
    "## Now concatenating the file path\n",
    "\n",
    "## Wrong Method\n",
    "## So for example i want to create a dir in here\n",
    "file_path = os.environ.get('HOME') + \"test.txt\""
   ]
  },
  {
   "cell_type": "code",
   "execution_count": 37,
   "metadata": {},
   "outputs": [
    {
     "name": "stdout",
     "output_type": "stream",
     "text": [
      "/home/pradyumtest.txt\n"
     ]
    }
   ],
   "source": [
    "print(file_path)"
   ]
  },
  {
   "cell_type": "markdown",
   "metadata": {},
   "source": [
    "## os.path"
   ]
  },
  {
   "cell_type": "code",
   "execution_count": 38,
   "metadata": {},
   "outputs": [
    {
     "name": "stdout",
     "output_type": "stream",
     "text": [
      "/home/pradyum/test.txt\n"
     ]
    }
   ],
   "source": [
    "## Right Method for concatenating paths\n",
    "## using os.path.join\n",
    "\n",
    "file_path = os.path.join(os.environ.get('HOME'),'test.txt')\n",
    "print(file_path)\n",
    "\n",
    "## Note: This file is not created here"
   ]
  },
  {
   "cell_type": "code",
   "execution_count": 39,
   "metadata": {},
   "outputs": [
    {
     "data": {
      "text/plain": [
       "'test.txt'"
      ]
     },
     "execution_count": 39,
     "metadata": {},
     "output_type": "execute_result"
    }
   ],
   "source": [
    "## os.path.basename ## will give the file name\n",
    "os.path.basename('/tmp/test.txt')"
   ]
  },
  {
   "cell_type": "code",
   "execution_count": 40,
   "metadata": {},
   "outputs": [
    {
     "data": {
      "text/plain": [
       "'/tmp'"
      ]
     },
     "execution_count": 40,
     "metadata": {},
     "output_type": "execute_result"
    }
   ],
   "source": [
    "## for the directory name\n",
    "os.path.dirname('/tmp/test.txt')"
   ]
  },
  {
   "cell_type": "code",
   "execution_count": 41,
   "metadata": {},
   "outputs": [
    {
     "data": {
      "text/plain": [
       "('/tmp', 'test.txt')"
      ]
     },
     "execution_count": 41,
     "metadata": {},
     "output_type": "execute_result"
    }
   ],
   "source": [
    "## Now for both of those\n",
    "os.path.split('/tmp/test.txt')\n",
    "\n",
    "## Note:: These path does NOT exists"
   ]
  },
  {
   "cell_type": "code",
   "execution_count": 42,
   "metadata": {},
   "outputs": [
    {
     "data": {
      "text/plain": [
       "False"
      ]
     },
     "execution_count": 42,
     "metadata": {},
     "output_type": "execute_result"
    }
   ],
   "source": [
    "## Check the path exists\n",
    "os.path.exists('/tmp/test.txt')\n",
    "\n",
    "### This shows path does not exists"
   ]
  },
  {
   "cell_type": "code",
   "execution_count": 43,
   "metadata": {},
   "outputs": [
    {
     "data": {
      "text/plain": [
       "False"
      ]
     },
     "execution_count": 43,
     "metadata": {},
     "output_type": "execute_result"
    }
   ],
   "source": [
    "## Check in path wheather that is file or dirs\n",
    "os.path.isfile('/tmp/sbjbsjba')\n",
    "## or for dirs\n",
    "os.path.isdir('/tmp/test')"
   ]
  },
  {
   "cell_type": "code",
   "execution_count": 44,
   "metadata": {},
   "outputs": [
    {
     "name": "stdout",
     "output_type": "stream",
     "text": [
      "('/tmp/test', '.txt')\n"
     ]
    }
   ],
   "source": [
    "## IMPORTANT\n",
    "## split text with file path and extenstion\n",
    "print(os.path.splitext('/tmp/test.txt'))\n",
    "\n",
    "## used for the various imaging tasks"
   ]
  },
  {
   "cell_type": "code",
   "execution_count": 45,
   "metadata": {},
   "outputs": [
    {
     "name": "stdout",
     "output_type": "stream",
     "text": [
      "['__all__', '__builtins__', '__cached__', '__doc__', '__file__', '__loader__', '__name__', '__package__', '__spec__', '_get_sep', '_joinrealpath', '_varprog', '_varprogb', 'abspath', 'altsep', 'basename', 'commonpath', 'commonprefix', 'curdir', 'defpath', 'devnull', 'dirname', 'exists', 'expanduser', 'expandvars', 'extsep', 'genericpath', 'getatime', 'getctime', 'getmtime', 'getsize', 'isabs', 'isdir', 'isfile', 'islink', 'ismount', 'join', 'lexists', 'normcase', 'normpath', 'os', 'pardir', 'pathsep', 'realpath', 'relpath', 'samefile', 'sameopenfile', 'samestat', 'sep', 'split', 'splitdrive', 'splitext', 'stat', 'supports_unicode_filenames', 'sys']\n"
     ]
    }
   ],
   "source": [
    "print(dir(os.path))"
   ]
  },
  {
   "cell_type": "code",
   "execution_count": null,
   "metadata": {},
   "outputs": [],
   "source": []
  },
  {
   "cell_type": "code",
   "execution_count": null,
   "metadata": {},
   "outputs": [],
   "source": []
  },
  {
   "cell_type": "code",
   "execution_count": null,
   "metadata": {},
   "outputs": [],
   "source": []
  },
  {
   "cell_type": "code",
   "execution_count": null,
   "metadata": {},
   "outputs": [],
   "source": []
  },
  {
   "cell_type": "code",
   "execution_count": null,
   "metadata": {},
   "outputs": [],
   "source": []
  },
  {
   "cell_type": "code",
   "execution_count": null,
   "metadata": {},
   "outputs": [],
   "source": []
  },
  {
   "cell_type": "code",
   "execution_count": null,
   "metadata": {},
   "outputs": [],
   "source": []
  },
  {
   "cell_type": "code",
   "execution_count": null,
   "metadata": {},
   "outputs": [],
   "source": []
  },
  {
   "cell_type": "code",
   "execution_count": null,
   "metadata": {},
   "outputs": [],
   "source": []
  },
  {
   "cell_type": "code",
   "execution_count": null,
   "metadata": {},
   "outputs": [],
   "source": []
  },
  {
   "cell_type": "code",
   "execution_count": null,
   "metadata": {},
   "outputs": [],
   "source": []
  },
  {
   "cell_type": "code",
   "execution_count": null,
   "metadata": {},
   "outputs": [],
   "source": []
  },
  {
   "cell_type": "code",
   "execution_count": null,
   "metadata": {},
   "outputs": [],
   "source": []
  },
  {
   "cell_type": "code",
   "execution_count": null,
   "metadata": {},
   "outputs": [],
   "source": []
  },
  {
   "cell_type": "code",
   "execution_count": null,
   "metadata": {},
   "outputs": [],
   "source": []
  },
  {
   "cell_type": "code",
   "execution_count": null,
   "metadata": {},
   "outputs": [],
   "source": []
  },
  {
   "cell_type": "code",
   "execution_count": null,
   "metadata": {},
   "outputs": [],
   "source": []
  },
  {
   "cell_type": "code",
   "execution_count": null,
   "metadata": {},
   "outputs": [],
   "source": []
  },
  {
   "cell_type": "code",
   "execution_count": null,
   "metadata": {},
   "outputs": [],
   "source": []
  },
  {
   "cell_type": "code",
   "execution_count": null,
   "metadata": {},
   "outputs": [],
   "source": []
  },
  {
   "cell_type": "code",
   "execution_count": null,
   "metadata": {},
   "outputs": [],
   "source": []
  }
 ],
 "metadata": {
  "kernelspec": {
   "display_name": "Python 3",
   "language": "python",
   "name": "python3"
  },
  "language_info": {
   "codemirror_mode": {
    "name": "ipython",
    "version": 3
   },
   "file_extension": ".py",
   "mimetype": "text/x-python",
   "name": "python",
   "nbconvert_exporter": "python",
   "pygments_lexer": "ipython3",
   "version": "3.6.3"
  }
 },
 "nbformat": 4,
 "nbformat_minor": 2
}
