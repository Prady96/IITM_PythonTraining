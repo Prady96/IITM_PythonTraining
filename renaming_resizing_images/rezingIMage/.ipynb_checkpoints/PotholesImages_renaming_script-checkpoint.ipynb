{
 "cells": [
  {
   "cell_type": "code",
   "execution_count": 2,
   "metadata": {},
   "outputs": [
    {
     "name": "stdout",
     "output_type": "stream",
     "text": [
      "/home/pradyum/django-apps/pothole_photos\n"
     ]
    }
   ],
   "source": [
    "%cd /home/pradyum/django-apps/pothole_photos/"
   ]
  },
  {
   "cell_type": "code",
   "execution_count": 3,
   "metadata": {},
   "outputs": [
    {
     "name": "stdout",
     "output_type": "stream",
     "text": [
      "dirburst.zip\r\n"
     ]
    }
   ],
   "source": [
    "!ls"
   ]
  },
  {
   "cell_type": "code",
   "execution_count": null,
   "metadata": {},
   "outputs": [],
   "source": [
    "## Output removed only sample shown\n",
    "!unzip dirburst.zip\n",
    "\n",
    "# inflating: dirburst/img7348c-lat-28.5536884-long-77.2669158.jpeg "
   ]
  },
  {
   "cell_type": "code",
   "execution_count": 5,
   "metadata": {},
   "outputs": [
    {
     "name": "stdout",
     "output_type": "stream",
     "text": [
      "dirburst  dirburst.zip\r\n"
     ]
    }
   ],
   "source": [
    "!ls"
   ]
  },
  {
   "cell_type": "code",
   "execution_count": 6,
   "metadata": {},
   "outputs": [
    {
     "name": "stdout",
     "output_type": "stream",
     "text": [
      "/home/pradyum/django-apps/pothole_photos/dirburst\n"
     ]
    }
   ],
   "source": [
    "%cd dirburst/"
   ]
  },
  {
   "cell_type": "code",
   "execution_count": null,
   "metadata": {},
   "outputs": [],
   "source": [
    "!ls\n",
    "# img0016b-lat-28.5557378-long-77.2658383.jpeg"
   ]
  },
  {
   "cell_type": "code",
   "execution_count": 8,
   "metadata": {},
   "outputs": [],
   "source": [
    "## Sample of the image file\n",
    "# img00916-lat-28.5557378-long-77.2658383.jpeg"
   ]
  },
  {
   "cell_type": "code",
   "execution_count": 12,
   "metadata": {},
   "outputs": [
    {
     "name": "stdout",
     "output_type": "stream",
     "text": [
      "/home/pradyum/django-apps/pothole_photos/dirburst\n",
      "Total files are 8041\n"
     ]
    }
   ],
   "source": [
    "## potholes renaming Script\n",
    "import os\n",
    "\n",
    "# os.chdir('/home/pradyum/Downloads/send3_aviNash/send/Val/') ## for the file path\n",
    "# os.chdir('/home/pradyum/django-apps/freshInstall/add_textInImage/testingImages')\n",
    "\n",
    "### Sample # img00916-lat-28.5557378-long-77.2658383.jpeg\n",
    "\n",
    "## check the current working directory\n",
    "print(os.getcwd())\n",
    "count = 0\n",
    "\n",
    "## looping through all the files\n",
    "for f in os.listdir():\n",
    "#   print(f) ## printing all the filenames here in the directory\n",
    "    ## Split the extenstion\n",
    "    f_name, f_ext = os.path.splitext(f)\n",
    "#     print(f_name)\n",
    "     \n",
    "    ## Now spliting the f_name furthur\n",
    "    f_random, f_lat_name,f_lat_val,f_long_name,f_long_val = f_name.split('-')\n",
    "#     print(f_random)\n",
    "    \n",
    "    count += 1 ## counter for naming files\n",
    "    \n",
    "    f_lat_val = f_lat_val.strip() ##removing the white Space\n",
    "    f_long_val = f_long_val.strip()\n",
    "    \n",
    "#     print('{}-{}-{}{}'.format(f_lat_val,f_long_val,count,f_ext)) ## check all the image file Names\n",
    "    new_name = '{}-{}-{}{}'.format(f_lat_val,f_long_val,count,f_ext)\n",
    "    \n",
    "    os.rename(f, new_name) ## Final renaming of the files\n",
    "    \n",
    "print(\"Total files are {}\".format(count))\n",
    "\n",
    "## Output removed only sample shown\n",
    "# 28.5557378-77.2658383-1507.jpeg"
   ]
  },
  {
   "cell_type": "code",
   "execution_count": null,
   "metadata": {},
   "outputs": [],
   "source": [
    "## Output removed only sample shown\n",
    "!ls\n",
    "# 28.5557378-77.2658383-1507.jpeg"
   ]
  },
  {
   "cell_type": "code",
   "execution_count": 14,
   "metadata": {},
   "outputs": [
    {
     "name": "stdout",
     "output_type": "stream",
     "text": [
      "/home/pradyum/django-apps/pothole_photos\n"
     ]
    }
   ],
   "source": [
    "%cd .."
   ]
  },
  {
   "cell_type": "code",
   "execution_count": 15,
   "metadata": {},
   "outputs": [
    {
     "name": "stdout",
     "output_type": "stream",
     "text": [
      "dirburst  dirburst.zip\r\n"
     ]
    }
   ],
   "source": [
    "!ls"
   ]
  },
  {
   "cell_type": "code",
   "execution_count": 16,
   "metadata": {},
   "outputs": [],
   "source": [
    "!mv dirburst mod_disburst"
   ]
  },
  {
   "cell_type": "code",
   "execution_count": null,
   "metadata": {},
   "outputs": [],
   "source": [
    "!zip -r mod_disburst.zip mod_disburst"
   ]
  },
  {
   "cell_type": "code",
   "execution_count": null,
   "metadata": {},
   "outputs": [],
   "source": [
    "\n"
   ]
  },
  {
   "cell_type": "code",
   "execution_count": null,
   "metadata": {},
   "outputs": [],
   "source": []
  }
 ],
 "metadata": {
  "kernelspec": {
   "display_name": "Python 3",
   "language": "python",
   "name": "python3"
  },
  "language_info": {
   "codemirror_mode": {
    "name": "ipython",
    "version": 3
   },
   "file_extension": ".py",
   "mimetype": "text/x-python",
   "name": "python",
   "nbconvert_exporter": "python",
   "pygments_lexer": "ipython3",
   "version": "3.6.3"
  }
 },
 "nbformat": 4,
 "nbformat_minor": 2
}
