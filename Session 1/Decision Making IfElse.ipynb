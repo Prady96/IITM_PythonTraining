{
 "cells": [
  {
   "cell_type": "markdown",
   "metadata": {},
   "source": [
    "### If Else Example 1"
   ]
  },
  {
   "cell_type": "code",
   "execution_count": 3,
   "metadata": {},
   "outputs": [
    {
     "name": "stdout",
     "output_type": "stream",
     "text": [
      "Enter your of date of birth 1990\n",
      "2018-06-26\n",
      "Your Age is 28\n"
     ]
    }
   ],
   "source": [
    "import datetime\n",
    "DOB = input(\"Enter your of date of birth \")\n",
    "\n",
    "#method 1\n",
    "today = datetime.date.today()\n",
    "print(today)\n",
    "CurrentYear = today.year\n",
    "\n",
    "#method 2\n",
    "#CurrentYear = datetime.datetime.now().year\n",
    "\n",
    "Age = CurrentYear-int(DOB)\n",
    "print(\"Your Age is \"+str(Age))"
   ]
  },
  {
   "cell_type": "code",
   "execution_count": 26,
   "metadata": {},
   "outputs": [
    {
     "name": "stdout",
     "output_type": "stream",
     "text": [
      "Your Age is 28\n",
      "Yes you are Eligible to vote\n"
     ]
    }
   ],
   "source": [
    "if(Age>18):\n",
    "    print(\"Your Age is \" + str(Age))\n",
    "    print(\"Yes you are Eligible to vote\")\n",
    "else:\n",
    "    print(\"Sorry you are not Adult\")"
   ]
  },
  {
   "cell_type": "markdown",
   "metadata": {},
   "source": [
    "### Example 2"
   ]
  },
  {
   "cell_type": "code",
   "execution_count": 28,
   "metadata": {},
   "outputs": [
    {
     "name": "stdout",
     "output_type": "stream",
     "text": [
      "Enter a number-10\n",
      "Number is negative\n"
     ]
    }
   ],
   "source": [
    "Number = input(\"Enter a number\")\n",
    "if(int(Number)>0):\n",
    "    print(\"Number is positive\")\n",
    "else:\n",
    "    print(\"Number is negative\")"
   ]
  },
  {
   "cell_type": "markdown",
   "metadata": {},
   "source": [
    "### Example 3"
   ]
  },
  {
   "cell_type": "code",
   "execution_count": 35,
   "metadata": {},
   "outputs": [
    {
     "name": "stdout",
     "output_type": "stream",
     "text": [
      "Enter a number 10\n",
      "Number is positive\n",
      "\n",
      "\n",
      "App is done\n"
     ]
    }
   ],
   "source": [
    "Number = input(\"Enter a number \")\n",
    "if(int(Number)>0):\n",
    "    print(\"Number is positive\")\n",
    "elif(int(Number)==0):\n",
    "    print(\"Number is Zero\")\n",
    "else:\n",
    "    print(\"Number is negative\")\n",
    "\n",
    "print(\"\\n\")\n",
    "print(\"App is done\")"
   ]
  },
  {
   "cell_type": "markdown",
   "metadata": {},
   "source": [
    "## Example 4"
   ]
  },
  {
   "cell_type": "code",
   "execution_count": 38,
   "metadata": {},
   "outputs": [
    {
     "name": "stdout",
     "output_type": "stream",
     "text": [
      "5\n"
     ]
    }
   ],
   "source": [
    "## Classical Example\n",
    "## if - else if\n",
    "a = 5\n",
    "b = 3\n",
    "c = 1\n",
    "greatest = None # Use 0 in place of NONE\n",
    "if a >= b and a >= c:\n",
    "    greatest = a\n",
    "elif b >= a and b >= c:\n",
    "    greatest = b\n",
    "else:\n",
    "    greatest = c\n",
    "print (greatest)"
   ]
  },
  {
   "cell_type": "code",
   "execution_count": 41,
   "metadata": {},
   "outputs": [
    {
     "name": "stdout",
     "output_type": "stream",
     "text": [
      "5\n"
     ]
    }
   ],
   "source": [
    "## if - if stateement\n",
    "a = 5\n",
    "b = 3\n",
    "c = 1\n",
    "\n",
    "greatest = 0\n",
    "if a > greatest:\n",
    "    greatest = a\n",
    "if b > greatest:\n",
    "    greatest = b\n",
    "if c > greatest:\n",
    "    greatest = c\n",
    "print(greatest)"
   ]
  },
  {
   "cell_type": "markdown",
   "metadata": {},
   "source": [
    "### Example 5\n",
    "1. For if - else statements\n",
    "2. For if - if condition\n",
    "\n",
    "### Grading System"
   ]
  },
  {
   "cell_type": "code",
   "execution_count": 1,
   "metadata": {},
   "outputs": [
    {
     "name": "stdout",
     "output_type": "stream",
     "text": [
      "Enter your Degree: 99\n",
      "Your Score is A\n"
     ]
    }
   ],
   "source": [
    "Degree = input(\"Enter your Degree: \")\n",
    "if(int(Degree) >= 90):\n",
    "    print(\"Your Score is A\")\n",
    "elif(int(Degree) >=80 and int(Degree)<90):\n",
    "    print(\"Your Score is B\")\n",
    "elif(int(Degree) >=70 and int(Degree)<80):\n",
    "    print(\"Your Score is C\")\n",
    "elif(int(Degree) >=70 and int(Degree)<70):\n",
    "    print(\"Your Score is B\")\n",
    "else:\n",
    "    print(\"You Fail\")\n",
    "\n",
    "# https://goo.gl/iJnJ8J"
   ]
  },
  {
   "cell_type": "code",
   "execution_count": 2,
   "metadata": {},
   "outputs": [
    {
     "name": "stdout",
     "output_type": "stream",
     "text": [
      "Enter your Degree: 99\n",
      "Your Score is A\n",
      "You Fail\n"
     ]
    }
   ],
   "source": [
    "## If - If Condition\n",
    "Degree = input(\"Enter your Degree: \")\n",
    "if(int(Degree) >= 90):\n",
    "    print(\"Your Score is A\")\n",
    "if(int(Degree) >=80 and int(Degree)<90):\n",
    "    print(\"Your Score is B\")\n",
    "if(int(Degree) >=70 and int(Degree)<80):\n",
    "    print(\"Your Score is C\")\n",
    "if(int(Degree) >=70 and int(Degree)<70):\n",
    "    print(\"Your Score is B\")\n",
    "else:\n",
    "    print(\"You Fail\")\n",
    "    \n",
    "# https://goo.gl/YaGiqg\n",
    "# Wastage of Computation"
   ]
  },
  {
   "cell_type": "markdown",
   "metadata": {},
   "source": [
    "## Nested IF-Else"
   ]
  },
  {
   "cell_type": "code",
   "execution_count": 44,
   "metadata": {},
   "outputs": [
    {
     "name": "stdout",
     "output_type": "stream",
     "text": [
      "Enter your Age 98\n",
      "Welcome you are eligible\n",
      "your class is B\n"
     ]
    }
   ],
   "source": [
    "Age = input(\"Enter your Age \")\n",
    "if(int(Age)>18):\n",
    "    print(\"Welcome you are eligible\")\n",
    "    if(int(Age)>30):\n",
    "        print(\"your class is B\")\n",
    "    else:\n",
    "        print(\"your class is A\")\n",
    "else:\n",
    "    print(\"Sorry, you are not eligible\")"
   ]
  },
  {
   "cell_type": "code",
   "execution_count": null,
   "metadata": {},
   "outputs": [],
   "source": []
  },
  {
   "cell_type": "code",
   "execution_count": null,
   "metadata": {},
   "outputs": [],
   "source": []
  },
  {
   "cell_type": "code",
   "execution_count": null,
   "metadata": {},
   "outputs": [],
   "source": []
  },
  {
   "cell_type": "code",
   "execution_count": null,
   "metadata": {},
   "outputs": [],
   "source": []
  },
  {
   "cell_type": "code",
   "execution_count": null,
   "metadata": {},
   "outputs": [],
   "source": []
  }
 ],
 "metadata": {
  "kernelspec": {
   "display_name": "Python 3",
   "language": "python",
   "name": "python3"
  },
  "language_info": {
   "codemirror_mode": {
    "name": "ipython",
    "version": 3
   },
   "file_extension": ".py",
   "mimetype": "text/x-python",
   "name": "python",
   "nbconvert_exporter": "python",
   "pygments_lexer": "ipython3",
   "version": "3.6.5"
  }
 },
 "nbformat": 4,
 "nbformat_minor": 2
}
