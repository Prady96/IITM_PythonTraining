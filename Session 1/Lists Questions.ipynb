{
 "cells": [
  {
   "cell_type": "markdown",
   "metadata": {},
   "source": [
    "**Before starting Questions please brush up SLICING**\n",
    "https://www.digitalocean.com/community/tutorials/how-to-index-and-slice-strings-in-python-3"
   ]
  },
  {
   "cell_type": "markdown",
   "metadata": {},
   "source": [
    "### Practise Q1"
   ]
  },
  {
   "cell_type": "code",
   "execution_count": 2,
   "metadata": {},
   "outputs": [],
   "source": [
    "# A. match_ends\n",
    "# Given a list of strings, return the count of the number of\n",
    "# strings where the string length is 2 or more and the first\n",
    "# and last chars of the string are the same.\n",
    "# Note: python does not have a ++ operator, but += works.\n",
    "\n",
    "# ['aba', 'xyz', 'aa', 'x', 'bbb']3\n",
    "# ['', 'x', 'xy', 'xyx', 'xx']2"
   ]
  },
  {
   "cell_type": "code",
   "execution_count": 9,
   "metadata": {},
   "outputs": [
    {
     "name": "stdout",
     "output_type": "stream",
     "text": [
      "3\n"
     ]
    }
   ],
   "source": [
    "\n",
    "\n",
    "\n",
    "\n",
    "\n",
    "words = ['aba', 'xyz', 'aa', 'x', 'bbb']\n",
    "# words = ['', 'x', 'xy', 'xyx', 'xx']\n",
    "count = 0\n",
    "for word in words:\n",
    "    if len(word) >= 2 and word[0] == word[-1]:\n",
    "        count = count + 1\n",
    "\n",
    "print(count)\n",
    "\n"
   ]
  },
  {
   "cell_type": "markdown",
   "metadata": {},
   "source": [
    "### Practise Q2"
   ]
  },
  {
   "cell_type": "code",
   "execution_count": 3,
   "metadata": {},
   "outputs": [],
   "source": [
    "# B. front_x Given a list of strings, \n",
    "# return a list with the strings\n",
    "# in sorted order, except group \n",
    "# all the strings that begin with 'x' first.\n",
    "# e.g. ['mix', 'xyz', 'apple', 'xanadu', 'aardvark'] yields\n",
    "# ['xanadu', 'xyz', 'aardvark', 'apple', 'mix']\n",
    "# Hint: this can be done by making 2 lists \n",
    "#       and sorting each of them\n",
    "#       before combining them.\n",
    "\n",
    "# ['bbb', 'ccc', 'axx', 'xzz', 'xaa']\n",
    "# ['ccc', 'bbb', 'aaa', 'xcc', 'xaa']"
   ]
  },
  {
   "cell_type": "code",
   "execution_count": 4,
   "metadata": {},
   "outputs": [
    {
     "name": "stdout",
     "output_type": "stream",
     "text": [
      "['xaa', 'xcc', 'aaa', 'bbb', 'ccc']\n"
     ]
    }
   ],
   "source": [
    "\n",
    "\n",
    "\n",
    "\n",
    "# words = ['bbb', 'ccc', 'axx', 'xzz', 'xaa']\n",
    "words = ['ccc', 'bbb', 'aaa', 'xcc', 'xaa']\n",
    "\n",
    "x_list = []\n",
    "other_list = []\n",
    "for w in words:\n",
    "    if w.startswith('x'):\n",
    "        x_list.append(w)\n",
    "    else:\n",
    "        other_list.append(w)\n",
    "        \n",
    "print(sorted(x_list) + sorted(other_list))"
   ]
  },
  {
   "cell_type": "markdown",
   "metadata": {},
   "source": [
    "### Practise Q3"
   ]
  },
  {
   "cell_type": "code",
   "execution_count": 5,
   "metadata": {},
   "outputs": [],
   "source": [
    "# D. Given a list of numbers, return a list where\n",
    "# all adjacent == elements have been reduced to a \n",
    "# single element, so \n",
    "# [1, 2, 2, 3] returns [1, 2, 3]. \n",
    "# You may create a new list \n",
    "# or modify the passed in list.\n",
    "# DONT USE SETS\n",
    "\n",
    "# [1, 2, 2, 3] Ans-> [1,2,3]\n",
    "# [[2, 2, 3, 3, 3]] Ans-> [2,3] "
   ]
  },
  {
   "cell_type": "code",
   "execution_count": 14,
   "metadata": {},
   "outputs": [
    {
     "name": "stdout",
     "output_type": "stream",
     "text": [
      "[1, 2, 3]\n"
     ]
    }
   ],
   "source": [
    "\n",
    "\n",
    "\n",
    "\n",
    "\n",
    "nums = [1, 2, 2, 3]\n",
    "\n",
    "result = []\n",
    "for num in nums:\n",
    "    if len(result) == 0 or num != result[-1]:\n",
    "        result.append(num)\n",
    "print(result)"
   ]
  },
  {
   "cell_type": "markdown",
   "metadata": {},
   "source": [
    "### Use extend() and pop() function"
   ]
  },
  {
   "cell_type": "code",
   "execution_count": 62,
   "metadata": {},
   "outputs": [
    {
     "name": "stdout",
     "output_type": "stream",
     "text": [
      "['hello', 'world']\n"
     ]
    }
   ],
   "source": [
    "x = [\"hello\",\"world\"]\n",
    "y = ['harry','larry']\n",
    "print(x)"
   ]
  },
  {
   "cell_type": "code",
   "execution_count": 63,
   "metadata": {},
   "outputs": [
    {
     "name": "stdout",
     "output_type": "stream",
     "text": [
      "['harry', 'larry']\n"
     ]
    }
   ],
   "source": [
    "print(y)"
   ]
  },
  {
   "cell_type": "code",
   "execution_count": 64,
   "metadata": {},
   "outputs": [
    {
     "name": "stdout",
     "output_type": "stream",
     "text": [
      "['hello', 'world', 'harry', 'larry']\n"
     ]
    }
   ],
   "source": [
    "# the reason it is getting printed in the back as i have executed this many times\n",
    "x.extend(y)\n",
    "print(x)"
   ]
  },
  {
   "cell_type": "code",
   "execution_count": 65,
   "metadata": {},
   "outputs": [
    {
     "name": "stdout",
     "output_type": "stream",
     "text": [
      "['hello', 'world', 'harry', 'larry', ['harry', 'larry']]\n"
     ]
    }
   ],
   "source": [
    "x.append(y)\n",
    "print(x)"
   ]
  },
  {
   "cell_type": "code",
   "execution_count": 66,
   "metadata": {},
   "outputs": [
    {
     "name": "stdout",
     "output_type": "stream",
     "text": [
      "['world', 'harry', 'larry', ['harry', 'larry']]\n"
     ]
    }
   ],
   "source": [
    "x.remove('hello') # this one works with value\n",
    "print(x)\n",
    "# x.remove(4)"
   ]
  },
  {
   "cell_type": "code",
   "execution_count": 67,
   "metadata": {},
   "outputs": [],
   "source": [
    "x.insert(0,'hello')"
   ]
  },
  {
   "cell_type": "code",
   "execution_count": 68,
   "metadata": {},
   "outputs": [
    {
     "data": {
      "text/plain": [
       "'hello'"
      ]
     },
     "execution_count": 68,
     "metadata": {},
     "output_type": "execute_result"
    }
   ],
   "source": [
    "x.pop(0) # this works with Then index "
   ]
  },
  {
   "cell_type": "code",
   "execution_count": 70,
   "metadata": {},
   "outputs": [
    {
     "name": "stdout",
     "output_type": "stream",
     "text": [
      "['world', 'harry', 'larry', ['harry', 'larry']]\n"
     ]
    }
   ],
   "source": [
    "print(x)"
   ]
  },
  {
   "cell_type": "markdown",
   "metadata": {},
   "source": [
    "### Practise Q4"
   ]
  },
  {
   "cell_type": "code",
   "execution_count": 13,
   "metadata": {},
   "outputs": [],
   "source": [
    "# E. Given two lists sorted in increasing order, \n",
    "# create and return a merged\n",
    "# list of all the elements in sorted order. \n",
    "# You may modify the passed in lists.\n",
    "# Ideally, the solution should work in \"linear\" time, \n",
    "# making a single pass of both lists.\n",
    "\n",
    "# list1 = ['aa', 'xx', 'zz'] \n",
    "# list2 = ['bb', 'cc']"
   ]
  },
  {
   "cell_type": "code",
   "execution_count": 11,
   "metadata": {},
   "outputs": [
    {
     "name": "stdout",
     "output_type": "stream",
     "text": [
      "['aa', 'bb', 'cc', 'xx', 'zz']\n"
     ]
    }
   ],
   "source": [
    "\n",
    "\n",
    "\n",
    "\n",
    "list1 = ['aa', 'xx', 'zz'] \n",
    "list2 = ['bb', 'cc']\n",
    "\n",
    "result = []\n",
    "# Look at the two lists so long as both are non-empty.\n",
    "# Take whichever element [0] is smaller.\n",
    "while len(list1) and len(list2):\n",
    "    if list1[0] < list2[0]:\n",
    "      result.append(list1.pop(0))\n",
    "    else:\n",
    "      result.append(list2.pop(0))\n",
    "\n",
    "# Now tack on what's left\n",
    "result.extend(list1)\n",
    "result.extend(list2)\n",
    "print(result)"
   ]
  },
  {
   "cell_type": "code",
   "execution_count": null,
   "metadata": {},
   "outputs": [],
   "source": []
  }
 ],
 "metadata": {
  "kernelspec": {
   "display_name": "Python 3",
   "language": "python",
   "name": "python3"
  },
  "language_info": {
   "codemirror_mode": {
    "name": "ipython",
    "version": 3
   },
   "file_extension": ".py",
   "mimetype": "text/x-python",
   "name": "python",
   "nbconvert_exporter": "python",
   "pygments_lexer": "ipython3",
   "version": "3.6.5"
  }
 },
 "nbformat": 4,
 "nbformat_minor": 2
}
