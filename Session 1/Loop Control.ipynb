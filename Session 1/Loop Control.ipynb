{
 "cells": [
  {
   "cell_type": "code",
   "execution_count": null,
   "metadata": {},
   "outputs": [],
   "source": [
    "#while loop\n",
    "print(\"hello\")\n",
    "print(\"hello\")\n",
    "print(\"hello\")\n",
    "print(\"hello\")\n",
    "print(\"hello\")\n",
    "print(\"hello\")"
   ]
  },
  {
   "cell_type": "markdown",
   "metadata": {},
   "source": [
    "For while Condition you Need to define 3 things\n",
    "1. Initial\n",
    "2. Condition\n",
    "3. Increment w.r.t Final Value"
   ]
  },
  {
   "cell_type": "raw",
   "metadata": {},
   "source": [
    "while(condition):\n",
    "    Action1\n",
    "    Action2\n",
    "    Action3"
   ]
  },
  {
   "cell_type": "code",
   "execution_count": null,
   "metadata": {},
   "outputs": [],
   "source": [
    "Counter = 1 # Keep track of the things\n",
    "while(Counter<=10):\n",
    "    print(Counter)\n",
    "    Counter = Counter + 1\n",
    "    "
   ]
  },
  {
   "cell_type": "code",
   "execution_count": null,
   "metadata": {},
   "outputs": [],
   "source": [
    "Sum = 0\n",
    "Counter = 1 # KeepTrack of the things\n",
    "while(Counter<=10):\n",
    "    print(Counter)\n",
    "    Sum = Sum + Counter\n",
    "    Counter = Counter + 1\n",
    "    \n",
    "print(Sum)"
   ]
  },
  {
   "cell_type": "code",
   "execution_count": null,
   "metadata": {},
   "outputs": [],
   "source": [
    "# Ask anytime you need to print\n",
    "i = 1                                   # Initial\n",
    "while(i<6):                             # Condition\n",
    "    print(str(i)+ \" \" + \"Hello World\")\n",
    "    i=i+1                               # Incrementation\n",
    "    #i=i+2 \n",
    "print(\"App is done\")\n",
    "\n",
    "# https://goo.gl/mGU5ki"
   ]
  },
  {
   "cell_type": "code",
   "execution_count": 1,
   "metadata": {},
   "outputs": [
    {
     "name": "stdout",
     "output_type": "stream",
     "text": [
      "0\n",
      "a\n",
      "1\n",
      "b\n",
      "2\n",
      "c\n",
      "3\n",
      "d\n",
      "4\n",
      "e\n"
     ]
    }
   ],
   "source": [
    "# List\n",
    "Letter = [\"a\",\"b\",\"c\",\"d\",\"e\"]\n",
    "Index = 0\n",
    "#Index = 4 #Try in Index 4\n",
    "while (Index < len(Letter)):\n",
    "    print(Index)\n",
    "    print(Letter[Index])\n",
    "    Index = Index + 1\n",
    "    \n",
    "# https://goo.gl/mELUQR    "
   ]
  },
  {
   "cell_type": "markdown",
   "metadata": {},
   "source": [
    "### Projectile Question"
   ]
  },
  {
   "cell_type": "code",
   "execution_count": 2,
   "metadata": {},
   "outputs": [
    {
     "name": "stdout",
     "output_type": "stream",
     "text": [
      "0\n",
      "100\n"
     ]
    }
   ],
   "source": [
    "height = 6000\n",
    "velocity = 60\n",
    "time = 0\n",
    "while(height > 0):\n",
    "    height = height - velocity\n",
    "    time = time + 1\n",
    "    \n",
    "print(height) # Reach to Ground Level\n",
    "print(time)\n",
    "\n",
    "# https://goo.gl/yrxKDs"
   ]
  },
  {
   "cell_type": "markdown",
   "metadata": {},
   "source": [
    "## For Loop"
   ]
  },
  {
   "cell_type": "code",
   "execution_count": 4,
   "metadata": {},
   "outputs": [
    {
     "name": "stdout",
     "output_type": "stream",
     "text": [
      "0\n",
      "2\n",
      "4\n",
      "6\n",
      "8\n"
     ]
    }
   ],
   "source": [
    "for i in range(0,10,2):\n",
    "    print(i)"
   ]
  },
  {
   "cell_type": "code",
   "execution_count": 3,
   "metadata": {},
   "outputs": [
    {
     "name": "stdout",
     "output_type": "stream",
     "text": [
      "2\n"
     ]
    }
   ],
   "source": [
    "# Nested and Countinue for Loops\n",
    "\n",
    "Participants = [\"Jen\",\"Alex\",\"Tina\",\"Joe\",\"Ben\"]\n",
    "\n",
    "position = 0\n",
    "# for temp in list\n",
    "for name in Participants:\n",
    "    if name == \"Tina\":\n",
    "        break\n",
    "    position = position + 1\n",
    "\n",
    "print(position)\n",
    "\n",
    "# https://goo.gl/fXou7U\n",
    "\n",
    "# Note : Element by Element by accessing the inner Values of the list"
   ]
  },
  {
   "cell_type": "code",
   "execution_count": 1,
   "metadata": {},
   "outputs": [
    {
     "name": "stdout",
     "output_type": "stream",
     "text": [
      "3\n",
      "4\n"
     ]
    }
   ],
   "source": [
    "# Now we will go by the indexes\n",
    "\n",
    "Participants = [\"Jen\",\"Alex\",\"Tina\",\"Joe\",\"Ben\"]\n",
    "\n",
    "# print(\"Index 0 \"+ str(Participants[0]))\n",
    "# print(\"Index 1 \"+ str(Participants[1]))\n",
    "# print(\"Index 2 \"+ str(Participants[2]))\n",
    "# print(\"Index 3 \"+ str(Participants[3]))\n",
    "\n",
    "Index = 0\n",
    "for currentIndex in range(len(Participants)):\n",
    "    if Participants[currentIndex] == \"Joe\":\n",
    "        break\n",
    "    Index = Index + 1\n",
    "\n",
    "print(currentIndex) #Index of the value\n",
    "print(currentIndex + 1) # Actu"
   ]
  },
  {
   "cell_type": "code",
   "execution_count": null,
   "metadata": {},
   "outputs": [],
   "source": [
    "# Now we will go by the indexes\n",
    "\n",
    "Participants = [\"Jen\",\"Alex\",\"Tina\",\"Joe\",\"Ben\"]\n",
    "\n",
    "# print(\"Index 0 \"+ str(Participants[0]))\n",
    "# print(\"Index 1 \"+ str(Participants[1]))\n",
    "# print(\"Index 2 \"+ str(Participants[2]))\n",
    "# print(\"Index 3 \"+ str(Participants[3]))\n",
    "\n",
    "Index = 0\n",
    "for currentIndex in range(len(Participants)):\n",
    "    if Participants[currentIndex] == \"Joe\":\n",
    "        print(\"About to break\")\n",
    "        break\n",
    "    print(\"Not Break\") \n",
    "\n",
    "print(currentIndex) #Index of the value\n",
    "print(currentIndex + 1) # Actual Position\n",
    "\n",
    "# https://goo.gl/kXSaHu"
   ]
  },
  {
   "cell_type": "code",
   "execution_count": 1,
   "metadata": {
    "scrolled": true
   },
   "outputs": [
    {
     "name": "stdout",
     "output_type": "stream",
     "text": [
      "0 divisble by 3\n",
      "1  Not divisible by 3\n",
      "2  Not divisible by 3\n",
      "3 divisble by 3\n",
      "4  Not divisible by 3\n",
      "5  Not divisible by 3\n",
      "6 divisble by 3\n",
      "7  Not divisible by 3\n",
      "8  Not divisible by 3\n",
      "9 divisble by 3\n"
     ]
    }
   ],
   "source": [
    "# Divisiblity program 1 to 10 by 3 \n",
    "for number in range(10):\n",
    "    if number%3 == 0:\n",
    "        print(str(number) + \" divisble by 3\")\n",
    "        continue # Skip the rest of the loop\n",
    "    print(str(number) + \"  Not divisible by 3\")\n",
    "        \n",
    "# Continue Statement to skip the remaining part of the loop and start with the next part in the loop\n",
    "# Break statement to stop | continue on after the loop\n",
    "\n",
    "# benfits\n",
    "#    Mentainence of the Control Flow of the LOOP"
   ]
  },
  {
   "cell_type": "raw",
   "metadata": {},
   "source": [
    "for number in range(10):\n",
    "    if condition == true:\n",
    "        workdone\n",
    "    #False Condition\n",
    "    wordDone "
   ]
  },
  {
   "cell_type": "markdown",
   "metadata": {},
   "source": [
    "## Triangle Questions"
   ]
  },
  {
   "cell_type": "code",
   "execution_count": null,
   "metadata": {},
   "outputs": [],
   "source": [
    "Length = 10\n",
    "# Range will go up-to but not to the 10th Iteration\n",
    "# so to make it go to the the 10th Iteartion we did\n",
    "# Length+1"
   ]
  },
  {
   "cell_type": "code",
   "execution_count": 7,
   "metadata": {},
   "outputs": [
    {
     "name": "stdout",
     "output_type": "stream",
     "text": [
      "1\n",
      "11\n",
      "111\n",
      "1111\n",
      "11111\n",
      "111111\n",
      "1111111\n",
      "11111111\n",
      "111111111\n"
     ]
    }
   ],
   "source": [
    "# range = (start,stop,step)\n",
    "\n",
    "toprint = \"1\" # 1 without quotes they are num try without quotes\n",
    "length = 10 \n",
    "\n",
    "for pos in range(1,length):\n",
    "    print(toprint*pos)\n",
    "\n",
    "    \n",
    "# https://goo.gl/HFiyfZ"
   ]
  },
  {
   "cell_type": "code",
   "execution_count": 8,
   "metadata": {},
   "outputs": [
    {
     "name": "stdout",
     "output_type": "stream",
     "text": [
      "1111111111\n",
      "111111111\n",
      "11111111\n",
      "1111111\n",
      "111111\n",
      "11111\n",
      "1111\n",
      "111\n",
      "11\n",
      "1\n"
     ]
    }
   ],
   "source": [
    "for pos in range(length,0,-1):\n",
    "    print(toprint*pos)"
   ]
  },
  {
   "cell_type": "raw",
   "metadata": {},
   "source": [
    "\n",
    "print Statement in Python 2 is just statement not a function like in Python 3\n",
    "like \n",
    "\"Same Line\"        print j, # , is used for ending in python\n",
    "\"Empty String\"     print \"\"\n",
    "      "
   ]
  },
  {
   "cell_type": "markdown",
   "metadata": {},
   "source": [
    "### 1st Pattern Problem"
   ]
  },
  {
   "cell_type": "code",
   "execution_count": 7,
   "metadata": {},
   "outputs": [
    {
     "name": "stdout",
     "output_type": "stream",
     "text": [
      "Enter a number of rows:  5\n",
      "1\n",
      "12\n",
      "123\n",
      "1234\n",
      "12345\n"
     ]
    }
   ],
   "source": [
    "end = int(input(\"Enter a number of rows:  \"))\n",
    "for row in range(1,end+1):\n",
    "    for col in range(1,row+1): # row == columns range(1,6) but it will give 5 cols\n",
    "        print(col, end = \"\")\n",
    "    print() #New Line    \n"
   ]
  },
  {
   "cell_type": "code",
   "execution_count": 13,
   "metadata": {},
   "outputs": [
    {
     "name": "stdout",
     "output_type": "stream",
     "text": [
      "Enter a number of rows:  5\n",
      "1\n",
      "22\n",
      "333\n",
      "4444\n",
      "55555\n"
     ]
    }
   ],
   "source": [
    "end = int(input(\"Enter a number of rows:  \"))\n",
    "for row in range(1,end+1):\n",
    "    for col in range(1,row+1): # row == columns range(1,6) but it will give 5 cols\n",
    "        print(row, end = \"\")\n",
    "    print() #New Line    \n",
    "\n"
   ]
  },
  {
   "cell_type": "markdown",
   "metadata": {},
   "source": [
    "### 2nd Pattern Problem"
   ]
  },
  {
   "cell_type": "code",
   "execution_count": 14,
   "metadata": {},
   "outputs": [
    {
     "name": "stdout",
     "output_type": "stream",
     "text": [
      "Enter a number of Rows: 5\n",
      "12345\n",
      "1234\n",
      "123\n",
      "12\n",
      "1\n"
     ]
    }
   ],
   "source": [
    "end = int(input(\"Enter a number of Rows: \"))\n",
    "for row in range(end,0,-1): # Decrement # 5,4,3,2,1\n",
    "    for col in range(1,row+1): # 1,2,3,4,5,6\n",
    "        print(col, end = \"\") # Getting all the value in single row\n",
    "    print()"
   ]
  },
  {
   "cell_type": "code",
   "execution_count": 15,
   "metadata": {},
   "outputs": [
    {
     "name": "stdout",
     "output_type": "stream",
     "text": [
      "Enter a number of Rows: 5\n",
      "55555\n",
      "4444\n",
      "333\n",
      "22\n",
      "1\n"
     ]
    }
   ],
   "source": [
    "end = int(input(\"Enter a number of Rows: \"))\n",
    "for row in range(end,0,-1): # Decrement # 5,4,3,2,1\n",
    "    for col in range(1,row+1): # 1,2,3,4,5,6\n",
    "        print(row, end = \"\") # Getting all the value in single row\n",
    "    print()"
   ]
  },
  {
   "cell_type": "markdown",
   "metadata": {},
   "source": [
    "### 3rd Pattern Problem "
   ]
  },
  {
   "cell_type": "code",
   "execution_count": 16,
   "metadata": {},
   "outputs": [
    {
     "name": "stdout",
     "output_type": "stream",
     "text": [
      "Enter a number of rows: 5\n",
      "    1\n",
      "   212\n",
      "  32123\n",
      " 4321234\n",
      "543212345\n"
     ]
    }
   ],
   "source": [
    "num = int(input(\"Enter a number of rows: \"))\n",
    "# range (1,5) then it can go from 1 to 4 only\n",
    "for row in range(1,num+1):\n",
    "    # for loop for printing space # 1st Part\n",
    "    for col in range(1,num-row+1):\n",
    "        print(\" \",end=\"\") # print(end=\" \")\n",
    "    \n",
    "    # for loop for the Second part # 2nd Traingle\n",
    "        ## 1. num of row == bigger Value\n",
    "    for col in range(row,0,-1):\n",
    "        print(col,end=\"\")\n",
    "    \n",
    "    # 3rd Part of the Program\n",
    "    # and here we dont want to print at 1st position so range(2,2) # No Print Would take place\n",
    "        # Row 2 u require 1 value \n",
    "        # Row 3 u require 2 value [start 2 End 3] row(2,row+1) \n",
    "        # Row 4 u require 3 value [start 2 End 4]\n",
    "    for col in range(2,row+1):\n",
    "        print(col,end=\"\")\n",
    "    print() # Next line\n"
   ]
  },
  {
   "cell_type": "markdown",
   "metadata": {},
   "source": [
    "### Fibonaccie Number"
   ]
  },
  {
   "cell_type": "markdown",
   "metadata": {},
   "source": [
    "0 1 1 2 3 5 8 13...."
   ]
  },
  {
   "cell_type": "code",
   "execution_count": 23,
   "metadata": {},
   "outputs": [
    {
     "name": "stdout",
     "output_type": "stream",
     "text": [
      "Enter how many num you want: 20\n",
      "0 1 1 2 3 5 8 13 21 34 55 89 144 233 377 610 987 1597 2584 4181 "
     ]
    }
   ],
   "source": [
    "# Enter how many num u want to print in series OR the end position\n",
    "end = int(input(\"Enter how many num you want: \"))\n",
    "first = 0 # 1st num\n",
    "second = 1 # 2nd Num\n",
    "for i in range(end):\n",
    "    print(first,end =\" \")\n",
    "    temp = first\n",
    "    first = second\n",
    "    second = temp + second\n"
   ]
  },
  {
   "cell_type": "code",
   "execution_count": null,
   "metadata": {},
   "outputs": [],
   "source": []
  }
 ],
 "metadata": {
  "kernelspec": {
   "display_name": "Python 3",
   "language": "python",
   "name": "python3"
  },
  "language_info": {
   "codemirror_mode": {
    "name": "ipython",
    "version": 3
   },
   "file_extension": ".py",
   "mimetype": "text/x-python",
   "name": "python",
   "nbconvert_exporter": "python",
   "pygments_lexer": "ipython3",
   "version": "3.6.5"
  }
 },
 "nbformat": 4,
 "nbformat_minor": 2
}
