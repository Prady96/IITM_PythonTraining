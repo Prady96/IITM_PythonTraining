{
 "cells": [
  {
   "cell_type": "code",
   "execution_count": null,
   "metadata": {},
   "outputs": [],
   "source": [
    "print(\"Hello World to Python\")"
   ]
  },
  {
   "cell_type": "code",
   "execution_count": null,
   "metadata": {},
   "outputs": [],
   "source": [
    "print(\"Welcome Pradyum!\")"
   ]
  },
  {
   "cell_type": "code",
   "execution_count": null,
   "metadata": {},
   "outputs": [],
   "source": [
    "print(\"Program runs from the first Line\")\n",
    "print(\"this for string\")\n",
    "print(\"\\n\")\n",
    "print(3.4)\n",
    "\n",
    "#type casting\n",
    "print(\"my python version is \" + str(3))\n",
    " "
   ]
  },
  {
   "cell_type": "markdown",
   "metadata": {},
   "source": [
    "# Variables"
   ]
  },
  {
   "cell_type": "code",
   "execution_count": null,
   "metadata": {},
   "outputs": [],
   "source": [
    "Name = \"Pradyum Gupta\"\n",
    "age = 24\n",
    "comment = \"Hello World\""
   ]
  },
  {
   "cell_type": "code",
   "execution_count": null,
   "metadata": {},
   "outputs": [],
   "source": [
    "print(Name)\n",
    "print(age)\n",
    "print(comment)"
   ]
  },
  {
   "cell_type": "markdown",
   "metadata": {},
   "source": [
    "### Find age of the person\n",
    "\n",
    "What is the formula for this to find some one Age \n",
    "##### Age = Year - Date Of Birth"
   ]
  },
  {
   "cell_type": "code",
   "execution_count": 1,
   "metadata": {},
   "outputs": [
    {
     "name": "stdout",
     "output_type": "stream",
     "text": [
      "Your Age is 24\n"
     ]
    }
   ],
   "source": [
    "Year = 2018\n",
    "DOB = 1994\n",
    "Age = Year - DOB\n",
    "print(\"Your Age is \" + str(Age))"
   ]
  },
  {
   "cell_type": "code",
   "execution_count": null,
   "metadata": {},
   "outputs": [],
   "source": [
    "#2nd Method\n",
    "print(\"Your Age is {} and Date of Birth Year {}\".format(Age,DOB))"
   ]
  },
  {
   "cell_type": "markdown",
   "metadata": {},
   "source": [
    "### Python Objects "
   ]
  },
  {
   "cell_type": "code",
   "execution_count": 5,
   "metadata": {},
   "outputs": [
    {
     "name": "stdout",
     "output_type": "stream",
     "text": [
      "<class 'int'>\n"
     ]
    }
   ],
   "source": [
    "#in Console\n",
    "x = 10\n",
    "# print(id(x))\n",
    "print(type(x))\n",
    "#Simmilarly for float and Str"
   ]
  },
  {
   "cell_type": "code",
   "execution_count": 4,
   "metadata": {},
   "outputs": [
    {
     "name": "stdout",
     "output_type": "stream",
     "text": [
      "\n",
      "\n",
      "4511201632\n",
      "<class 'float'>\n",
      "\n",
      "\n",
      "4513572488\n",
      "<class 'str'>\n"
     ]
    }
   ],
   "source": [
    "print(\"\\n\")\n",
    "\n",
    "#for Float\n",
    "pi = 3.14  #directly commands and not printing them\n",
    "print(id(pi))\n",
    "print(type(pi))\n",
    "\n",
    "print(\"\\n\")\n",
    "\n",
    "#For Str\n",
    "Name = \"Hello\"\n",
    "print(id(Name))\n",
    "print(type(Name))"
   ]
  },
  {
   "cell_type": "markdown",
   "metadata": {},
   "source": [
    "# Data Types Examples\n",
    "https://www.google.co.in/search?q=data+types+in+python&rlz=1C5CHFA_enIN700IN700&source=lnms&tbm=isch&sa=X&ved=0ahUKEwjbqdbs6ezbAhVDfisKHWE4CxcQ_AUICigB&biw=1280&bih=726#imgrc=5QBwulmfgjFPFM:\n",
    "\n",
    "2.\n",
    "https://www.google.co.in/url?sa=i&rct=j&q=&esrc=s&source=images&cd=&cad=rja&uact=8&ved=2ahUKEwjPntGL6uzbAhUNWysKHQdbCHgQjRx6BAgBEAU&url=https%3A%2F%2Fwww.youtube.com%2Fwatch%3Fv%3DAaIdperUu-A&psig=AOvVaw07d8RYzodw3bxqrluYaiBe&ust=1529947861115017\n",
    "    "
   ]
  },
  {
   "cell_type": "markdown",
   "metadata": {},
   "source": [
    "### Variable type Strings"
   ]
  },
  {
   "cell_type": "code",
   "execution_count": null,
   "metadata": {},
   "outputs": [],
   "source": [
    "%config IPCompleter.greedy=True #This is for AutoComplete"
   ]
  },
  {
   "cell_type": "code",
   "execution_count": null,
   "metadata": {},
   "outputs": [],
   "source": [
    "import pandas as pd\n",
    "from pandas.io.json import json_normalize\n",
    "import matplotlib.pyplot as plt\n",
    "import matplotlib as mpl\n",
    "import numpy as np\n",
    "import json\n",
    "import sqlite3\n",
    "\n",
    "from datetime import datetime, timedelta\n",
    "import pytz\n",
    "\n",
    "pd.set_option('max_columns', 50)\n",
    "\n",
    "mpl.style.use('ggplot')"
   ]
  },
  {
   "cell_type": "code",
   "execution_count": 15,
   "metadata": {},
   "outputs": [
    {
     "name": "stdout",
     "output_type": "stream",
     "text": [
      "11\n",
      "Upper Case HELLO WORLD\n",
      "Lower Case hello world\n",
      "Total Marks 79\n",
      "\n",
      "\n",
      "Your Grade is 79\n"
     ]
    }
   ],
   "source": [
    "Name = \"Hello World\"\n",
    "\n",
    "strLen = len(Name)\n",
    "print(strLen)\n",
    "\n",
    "print(\"Upper Case \"+ Name.upper()) #Upper for Python\n",
    "\n",
    "print(\"Lower Case \"+ Name.lower()) #lower for Python\n",
    "\n",
    "# https://stackoverflow.com/a/2087703/7999665  Which is better .format or + concatenation\n",
    "\n",
    "marks = 79\n",
    "Rahul = \"Total Marks \" + str(marks)\n",
    "print(Rahul)\n",
    "\n",
    "print(\"\\n\")\n",
    "\n",
    "title= \"Your Grade is {}\".format(79)\n",
    "print(title)\n",
    "\n"
   ]
  }
 ],
 "metadata": {
  "kernelspec": {
   "display_name": "Python 3",
   "language": "python",
   "name": "python3"
  },
  "language_info": {
   "codemirror_mode": {
    "name": "ipython",
    "version": 3
   },
   "file_extension": ".py",
   "mimetype": "text/x-python",
   "name": "python",
   "nbconvert_exporter": "python",
   "pygments_lexer": "ipython3",
   "version": "3.6.5"
  }
 },
 "nbformat": 4,
 "nbformat_minor": 2
}
